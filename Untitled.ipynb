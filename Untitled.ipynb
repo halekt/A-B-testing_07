{
 "cells": [
  {
   "cell_type": "markdown",
   "id": "5d6c0be5",
   "metadata": {},
   "source": [
    "На основе выбранных продуктов из первого вебинара, выберите 2 A/B-теста и составьте план эксперимента, чтобы избежать Peeking Problem\n",
    "\n",
    "Распишите, какие метрики и как вы будете анализировать"
   ]
  },
  {
   "cell_type": "markdown",
   "id": "87ec29ff",
   "metadata": {},
   "source": [
    "Мы запустили А/В тест Длительностью 10 дней.На каждую метрику направили по 10 000 юзеров. Ошибка первого рода 0.05. На основе выбранных данных, выберите 2 A/B-теста и составьте план эксперимента, чтобы избежать ошибки Peeking Problem\n",
    "\n",
    "Ключевые метрики:\n",
    "\n",
    "Количество новых регистраций пользователей\n",
    "Доход от новых пользователей\n",
    "Гипотеза: Если предложить 10% скидку на первую покупку для новых пользователей, то мы сможем повысить количество регистраций новых пользователей на 15%.\n",
    "\n",
    "Что мы делаем в каждой из групп: Даём код на 10% скидку на первую покупку.\n",
    "\n",
    "На каких пользователях мы тестируем: Новые пользователи, которые раньше не делали покупок на сайте.\n",
    "\n",
    "Метрика: количество новых регистраций пользователей.\n",
    "\n",
    "Гипотеза: Если предоставить персонализированные рекомендации по продуктам новым пользователям на основе их истории просмотров и покупательского поведения, то сможем повысить показатель дохода от новых пользователей на n%.\n",
    "Что мы делаем в каждой из групп: группа новых пользователей получает персонализированные рекомендации.\n",
    "\n",
    "На каких пользователях мы тестируем: На новых пользователях, совершивших хотя бы одну покупку на сайте\n",
    "\n",
    "Метрика: доход от новых пользователей.\n",
    "\n",
    "Решение:\n",
    "\n",
    "Соберём данные о регистрациях и доходах для контрольной и тестовой групп.\n",
    "Разделим данные на выборки – каждая выборка будет содержать 10,000 пользователей.\n",
    "Для каждой выборки будем считать количество новых регистраций и доход от новых пользователей для контрольной и тестовой групп.\n",
    "С помощью бутстрапа будем генерировать 1000 выборок с возвращением.\n",
    "Для каждой выборки будем считать различие между контрольной и тестовой групп в количестве новых регистраций и доходе от новых пользователей.\n",
    "Построим распределение полученных различий, оценим доверительные интервалы для обеих метрик.\n",
    "Если доверительный интервал не содержит 0 (для метрики регистраций) или отрицательных значений (для метрики дохода), то можем сделать вывод о том, что эксперимент был успешным и можно внедрять новые подходы в работу сервиса.\n",
    "Определяем ключевые билиотеки:"
   ]
  },
  {
   "cell_type": "code",
   "execution_count": 1,
   "id": "6a66b9d4",
   "metadata": {},
   "outputs": [],
   "source": [
    "import numpy as np\n",
    "import pandas as pd\n",
    "from scipy.stats import norm"
   ]
  },
  {
   "cell_type": "code",
   "execution_count": 2,
   "id": "a40e6b24",
   "metadata": {},
   "outputs": [],
   "source": [
    "control_registrations = 10000\n",
    "test_registrations = 10000\n",
    "control_income = 1000000\n",
    "test_income = 1000000"
   ]
  },
  {
   "cell_type": "code",
   "execution_count": 3,
   "id": "6ed426fa",
   "metadata": {},
   "outputs": [],
   "source": [
    "control_registrations_list = np.random.binomial(n=1, p=0.05, size=control_registrations)\n",
    "test_registrations_list = np.random.binomial(n=1, p=0.05, size=test_registrations)\n",
    "control_income_list = np.random.normal(loc=100, scale=20, size=control_income)\n",
    "test_income_list = np.random.normal(loc=110, scale=20, size=test_income)"
   ]
  },
  {
   "cell_type": "code",
   "execution_count": 4,
   "id": "dc3304e0",
   "metadata": {},
   "outputs": [],
   "source": [
    "control_registrations_num = sum(control_registrations_list)\n",
    "test_registrations_num = sum(test_registrations_list)\n",
    "control_income_sum = sum(control_income_list)\n",
    "test_income_sum = sum(test_income_list)"
   ]
  },
  {
   "cell_type": "code",
   "execution_count": 5,
   "id": "8bfbb2f7",
   "metadata": {},
   "outputs": [],
   "source": [
    "n = 1000\n",
    "differences_registrations = []\n",
    "differences_income = []\n",
    "\n",
    "for i in range(n):\n",
    "    control_registrations_sample = np.random.choice(control_registrations_list, size=10000, replace=True)\n",
    "    test_registrations_sample = np.random.choice(test_registrations_list, size=10000, replace=True)\n",
    "    control_income_sample = np.random.choice(control_income_list, size=10000, replace=True)\n",
    "    test_income_sample = np.random.choice(test_income_list, size=10000, replace=True)\n",
    "\n",
    "    sample_diff_registrations = sum(test_registrations_sample) - sum(control_registrations_sample)\n",
    "    sample_diff_income = sum(test_income_sample) - sum(control_income_sample)\n",
    "\n",
    "    differences_registrations.append(sample_diff_registrations)\n",
    "    differences_income.append(sample_diff_income)"
   ]
  },
  {
   "cell_type": "code",
   "execution_count": 6,
   "id": "85dd685d",
   "metadata": {},
   "outputs": [
    {
     "name": "stdout",
     "output_type": "stream",
     "text": [
      "95% доверительный интервал для количества регистраций:  (6.963645683105872, 10.966354316894128)\n"
     ]
    }
   ],
   "source": [
    "difference_registrations_mean = np.mean(differences_registrations)\n",
    "difference_registrations_std = np.std(differences_registrations)\n",
    "ci_registrations = norm.interval(0.95, loc=difference_registrations_mean, scale=difference_registrations_std/np.sqrt(n))\n",
    "print(\"95% доверительный интервал для количества регистраций: \", ci_registrations)"
   ]
  },
  {
   "cell_type": "code",
   "execution_count": 7,
   "id": "eef09993",
   "metadata": {},
   "outputs": [
    {
     "name": "stdout",
     "output_type": "stream",
     "text": [
      "95% доверительный интервал для дохода:  (99610.89150371145, 99965.87267898333)\n"
     ]
    }
   ],
   "source": [
    "difference_income_mean = np.mean(differences_income)\n",
    "difference_income_std = np.std(differences_income)\n",
    "ci_income = norm.interval(0.95, loc=difference_income_mean, scale=difference_income_std/np.sqrt(n))\n",
    "print(\"95% доверительный интервал для дохода: \", ci_income)"
   ]
  },
  {
   "cell_type": "markdown",
   "id": "21147575",
   "metadata": {},
   "source": [
    "Так как, доверительный интервал не содержит 0 (для метрики регистраций) и отрицательных значений (для метрики дохода), то можем сделать вывод о том, что эксперимент был успешным и можно внедрять новые подходы в работу сервиса."
   ]
  },
  {
   "cell_type": "code",
   "execution_count": null,
   "id": "07fe9fa6",
   "metadata": {},
   "outputs": [],
   "source": []
  }
 ],
 "metadata": {
  "kernelspec": {
   "display_name": "Python 3 (ipykernel)",
   "language": "python",
   "name": "python3"
  },
  "language_info": {
   "codemirror_mode": {
    "name": "ipython",
    "version": 3
   },
   "file_extension": ".py",
   "mimetype": "text/x-python",
   "name": "python",
   "nbconvert_exporter": "python",
   "pygments_lexer": "ipython3",
   "version": "3.11.1"
  }
 },
 "nbformat": 4,
 "nbformat_minor": 5
}
